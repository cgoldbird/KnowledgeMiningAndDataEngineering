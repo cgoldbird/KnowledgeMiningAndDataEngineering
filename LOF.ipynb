{
 "cells": [
  {
   "cell_type": "markdown",
   "metadata": {},
   "source": [
    "# 离群点检测的local outlier factor算法\n",
    "## 1. 辅助函数"
   ]
  },
  {
   "cell_type": "code",
   "execution_count": 36,
   "metadata": {},
   "outputs": [],
   "source": [
    "import numpy as np\n",
    "import matplotlib.pyplot as plt"
   ]
  },
  {
   "cell_type": "code",
   "execution_count": 37,
   "metadata": {},
   "outputs": [],
   "source": [
    "def distance_euclidean(instance1, instance2):\n",
    "    '''计算两点的欧式距离'''\n",
    "    differences = [0] * len(instance1)\n",
    "    for i, (attr1, attr2) in enumerate(zip(instance1, instance2)):\n",
    "        differences[i] = attr1 - attr2\n",
    "    rmse = (sum(map(lambda x: x**2, differences)) / len(differences))**0.5\n",
    "    return rmse\n",
    "\n",
    "def k_distance(k, instance, instances, distance_function=distance_euclidean):\n",
    "    \"\"\"计算实例的 k-距离，并收集了 k-距离邻居的集合。\n",
    "        Returns: k-距离, k-距离领域范围的点\"\"\"\n",
    "    distances = {}\n",
    "    for instance2 in instances:\n",
    "        distance_value = distance_function(instance, instance2)\n",
    "        if distance_value in distances:\n",
    "            distances[distance_value].append(instance2)\n",
    "        else:\n",
    "            distances[distance_value] = [instance2]\n",
    "    distances = sorted(distances.items())\n",
    "    neighbours = []\n",
    "    k_sero = 0\n",
    "    k_dist = None\n",
    "    for dist in distances:\n",
    "        k_sero += len(dist[1])\n",
    "        neighbours.extend(dist[1])\n",
    "        k_dist = dist[0]\n",
    "        if k_sero >= k:\n",
    "            break\n",
    "    return k_dist, neighbours\n",
    "\n",
    "def reachability_distance(k, instance1, instance2, instances, distance_function=distance_euclidean):\n",
    "    \"\"\"计算实例1到实例2的第k可达距离, 注意这里的距离计算是有方向性的instance1->instance2\n",
    "    Returns: 可达距离\"\"\"\n",
    "    (k_distance_value, neighbours) = k_distance(k, instance2, instances, distance_function=distance_function)\n",
    "    return max([k_distance_value, distance_function(instance1, instance2)])\n",
    "\n",
    "def local_reachability_density(min_pts, instance, instances, **kwargs):\n",
    "    \"\"\"计算实例的局部可达密度\n",
    "    Returns: 局部可达密度\"\"\"\n",
    "    (k_distance_value, neighbours) = k_distance(min_pts, instance, instances, **kwargs)\n",
    "    reachability_distances_array = [0]*len(neighbours) #n.zeros(len(neighbours))\n",
    "    for i, neighbour in enumerate(neighbours):\n",
    "        reachability_distances_array[i] = reachability_distance(min_pts, instance, neighbour, instances, **kwargs) \n",
    "    sum_reach_dist = sum(reachability_distances_array)\n",
    "    if sum_reach_dist == 0:\n",
    "        return float('inf')\n",
    "    return len(neighbours) / sum_reach_dist\n",
    "\n",
    "def local_outlier_factor(min_pts, instance, instances, **kwargs):\n",
    "    \"\"\"计算实例的局部异常因子\n",
    "    min_pts 是一个参数，用于指定在计算 LOF(局部离群因子)值时要考虑的最小实例数量。\n",
    "    Returns: LOF因子\"\"\"\n",
    "    (k_distance_value, neighbours) = k_distance(min_pts, instance, instances, **kwargs)\n",
    "    instance_lrd = local_reachability_density(min_pts, instance, instances, **kwargs)\n",
    "    lrd_ratios_array = [0]* len(neighbours)\n",
    "    for i, neighbour in enumerate(neighbours):\n",
    "        instances_without_instance = set(instances)\n",
    "        instances_without_instance.discard(neighbour)\n",
    "        neighbour_lrd = local_reachability_density(min_pts, neighbour, instances_without_instance, **kwargs)\n",
    "        lrd_ratios_array[i] = neighbour_lrd / instance_lrd\n",
    "    return sum(lrd_ratios_array) / len(neighbours)"
   ]
  },
  {
   "cell_type": "markdown",
   "metadata": {},
   "source": [
    "## 2. LOF算子"
   ]
  },
  {
   "cell_type": "code",
   "execution_count": 38,
   "metadata": {},
   "outputs": [],
   "source": [
    "class LOF:\n",
    "    \"\"\"LOF算子\"\"\"\n",
    "    def __init__(self, instances, normalize=True, distance_function=distance_euclidean):\n",
    "        self.instances = instances\n",
    "        self.normalize = normalize\n",
    "        self.distance_function = distance_function\n",
    "        if normalize:\n",
    "            self.normalize_instances()\n",
    "\n",
    "    def compute_instance_attribute_bounds(self):\n",
    "        '''计算实例集合中各元素的边界，即每个元素的最大值和最小值'''\n",
    "        min_values = [float(\"inf\")] * len(self.instances[0]) \n",
    "        max_values = [float(\"-inf\")] * len(self.instances[0]) \n",
    "        for instance in self.instances:\n",
    "            min_values = tuple(map(lambda x,y: min(x,y), min_values,instance)) \n",
    "            max_values = tuple(map(lambda x,y: max(x,y), max_values,instance)) \n",
    "        self.max_attribute_values = max_values\n",
    "        self.min_attribute_values = min_values\n",
    "            \n",
    "    def normalize_instances(self):\n",
    "        \"\"\"对实例集合进行归一化\"\"\"\n",
    "        if not hasattr(self, \"max_attribute_values\"):\n",
    "            self.compute_instance_attribute_bounds()\n",
    "        new_instances = []\n",
    "        for instance in self.instances:\n",
    "            new_instances.append(self.normalize_instance(instance))\n",
    "        self.instances = new_instances\n",
    "        \n",
    "    def normalize_instance(self, instance):\n",
    "        return tuple(map(lambda value,max,min: (value-min)/(max-min) if max-min > 0 else 0, \n",
    "                         instance, self.max_attribute_values, self.min_attribute_values))\n",
    "        \n",
    "    def local_outlier_factor(self, min_pts, instance):\n",
    "        \"\"\"局部异常因子\n",
    "        min_pts 是一个参数，用于指定计算 LOF 值所需考虑的最小实例数量\n",
    "        Returns: local outlier factor\"\"\"\n",
    "        if self.normalize:\n",
    "            instance = self.normalize_instance(instance)\n",
    "        return local_outlier_factor(min_pts, instance, self.instances, distance_function=self.distance_function)\n"
   ]
  },
  {
   "cell_type": "markdown",
   "metadata": {},
   "source": [
    "## 3. 离群点计算"
   ]
  },
  {
   "cell_type": "code",
   "execution_count": 39,
   "metadata": {},
   "outputs": [],
   "source": [
    "def outliers(k, instances, **kwargs):\n",
    "    \"\"\"获取实例集合中的异常值\"\"\"\n",
    "    instances_value_backup = instances\n",
    "    outliers = []\n",
    "    for i, instance in enumerate(instances_value_backup):\n",
    "        instances = list(instances_value_backup)\n",
    "        instances.remove(instance)\n",
    "        l = LOF(instances, **kwargs)\n",
    "        value = l.local_outlier_factor(k, instance)\n",
    "        if value > 1:\n",
    "            outliers.append({\"lof\": value, \"instance\": instance, \"index\": i})\n",
    "    outliers.sort(key=lambda o: o[\"lof\"], reverse=True)\n",
    "    return outliers"
   ]
  },
  {
   "cell_type": "markdown",
   "metadata": {},
   "source": [
    "## 4. 测试用例1"
   ]
  },
  {
   "cell_type": "code",
   "execution_count": 40,
   "metadata": {},
   "outputs": [
    {
     "data": {
      "image/png": "[encoded data removed]",
      "text/plain": [
       "<Figure size 640x480 with 1 Axes>"
      ]
     },
     "metadata": {},
     "output_type": "display_data"
    }
   ],
   "source": [
    "instances = [\n",
    " (-4.8447532242074978, -5.6869538132901658),\n",
    " (1.7265577109364076, -2.5446963280374302),\n",
    " (-1.9885982441038819, 1.705719643962865),\n",
    " (-1.999050026772494, -4.0367551415711844),\n",
    " (-2.0550860126898964, -3.6247409893236426),\n",
    " (-1.4456945632547327, -3.7669258809535102),\n",
    " (-4.6676062022635554, 1.4925324371089148),\n",
    " (-3.6526420667796877, -3.5582661345085662),\n",
    " (6.4551493172954029, -0.45434966683144573),\n",
    " (-0.56730591589443669, -5.5859532963153349),\n",
    " (-5.1400897823762239, -1.3359248994019064),\n",
    " (5.2586932439960243, 0.032431285797532586),\n",
    " (6.3610915734502838, -0.99059648246991894),\n",
    " (-0.31086913190231447, -2.8352818694180644),\n",
    " (1.2288582719783967, -1.1362795178325829),\n",
    " (-0.17986204466346614, -0.32813130288006365),\n",
    " (2.2532002509929216, -0.5142311840491649),\n",
    " (-0.75397166138399296, 2.2465141276038754),\n",
    " (1.9382517648161239, -1.7276112460593251),\n",
    " (1.6809250808549676, -2.3433636210337503),\n",
    " (0.68466572523884783, 1.4374914487477481),\n",
    " (2.0032364431791514, -2.9191062023123635),\n",
    " (-1.7565895138024741, 0.96995712544043267),\n",
    " (3.3809644295064505, 6.7497121359292684),\n",
    " (-4.2764152718650896, 5.6551328734397766),\n",
    " (-3.6347215445083019, -0.85149861984875741),\n",
    " (-5.6249411288060385, -3.9251965527768755),\n",
    " (4.6033708001912093, 1.3375110154658127),\n",
    " (-0.685421751407983, -0.73115552984211407),\n",
    " (-2.3744241805625044, 1.3443896265777866)]\n",
    "\n",
    "for instance in instances:\n",
    "    plt.scatter(instance[0], instance[1], s=10, color=\"green\")\n",
    "plt.show()\n"
   ]
  },
  {
   "cell_type": "code",
   "execution_count": 41,
   "metadata": {},
   "outputs": [
    {
     "name": "stdout",
     "output_type": "stream",
     "text": [
      "异常值的LOF及其坐标:\n",
      "2.2048496921690095 (3.3809644295064505, 6.749712135929268)\n",
      "1.794844084823056 (-4.27641527186509, 5.6551328734397766)\n",
      "1.5012186584843135 (6.455149317295403, -0.45434966683144573)\n",
      "1.4794025326219273 (6.361091573450284, -0.9905964824699189)\n",
      "1.3721695654932344 (5.258693243996024, 0.032431285797532586)\n",
      "1.2910019510075679 (4.603370800191209, 1.3375110154658127)\n",
      "1.2027400633270513 (-4.844753224207498, -5.686953813290166)\n",
      "1.1871801839835139 (-5.6249411288060385, -3.9251965527768755)\n",
      "1.108985678163174 (0.6846657252388478, 1.4374914487477481)\n",
      "1.057283040066788 (-4.667606202263555, 1.4925324371089148)\n",
      "1.0421629593470334 (-5.140089782376224, -1.3359248994019064)\n",
      "1.0280116793513516 (-0.5673059158944367, -5.585953296315335)\n"
     ]
    },
    {
     "data": {
      "image/png": "[encoded data removed]",
      "text/plain": [
       "<Figure size 640x480 with 1 Axes>"
      ]
     },
     "metadata": {},
     "output_type": "display_data"
    }
   ],
   "source": [
    "lof = outliers(5, instances)\n",
    "\n",
    "print(\"异常值的LOF及其坐标:\")\n",
    "for outlier in lof:\n",
    "    print(outlier[\"lof\"],outlier[\"instance\"])\n",
    "\n",
    "\n",
    "x,y = zip(*instances)\n",
    "plt.scatter(x,y, 20, color=\"#0000FF\")\n",
    "\n",
    "for outlier in lof:\n",
    "    value = outlier[\"lof\"]\n",
    "    instance = outlier[\"instance\"]\n",
    "    color = \"#FF0000\" if value > 1 else \"#00FF00\"\n",
    "    plt.scatter(instance[0], instance[1], color=color, s=(value-1)**2*10+20)\n",
    "\n",
    "plt.show()\n"
   ]
  },
  {
   "cell_type": "markdown",
   "metadata": {},
   "source": [
    "## 5. 测试用例2"
   ]
  },
  {
   "cell_type": "code",
   "execution_count": 46,
   "metadata": {},
   "outputs": [
    {
     "data": {
      "image/png": "[encoded data removed]",
      "text/plain": [
       "<Figure size 640x480 with 1 Axes>"
      ]
     },
     "metadata": {},
     "output_type": "display_data"
    }
   ],
   "source": [
    "instance_1 = np.random.normal(0,0.5,size=(50, 2))\n",
    "instance_2 = np.random.normal(5,1,size=(50, 2))\n",
    "outlier_ins = np.random.uniform(-1, 7, size=(20, 2))\n",
    "instances = np.concatenate((instance_1, instance_2, outlier_ins)).tolist()\n",
    "instances = [(x[0],x[1]) for x in instances]\n",
    "for instance in instances:\n",
    "    plt.scatter(instance[0], instance[1], s=10, color=\"green\")\n",
    "\n",
    "plt.show()"
   ]
  },
  {
   "cell_type": "markdown",
   "metadata": {},
   "source": [
    "### 5.1. k=10"
   ]
  },
  {
   "cell_type": "code",
   "execution_count": 44,
   "metadata": {},
   "outputs": [
    {
     "name": "stdout",
     "output_type": "stream",
     "text": [
      "异常值的LOF及其坐标:\n",
      "3.9136626560664722 (2.453276369837435, 0.020642422364510082)\n",
      "3.470498564196041 (1.0665166873281333, -0.9760438997612509)\n",
      "3.2042533106111604 (1.2702072463897958, 1.9046583711890808)\n",
      "2.986913009930839 (1.1539458475950477, 2.018273304836981)\n",
      "2.655868496762973 (-0.30463769530061047, 3.2968523345483822)\n",
      "2.588766423959467 (-0.839430417778189, 1.5766333246654263)\n",
      "2.4858940698245 (-0.04190294544599027, 6.12421824591916)\n",
      "2.357037379769207 (-0.7240421707486621, -0.7037318871882776)\n",
      "2.353512908281943 (0.6915840559723572, 1.6199788174233172)\n",
      "2.168603673178208 (-0.14262390928179158, 2.579298934587637)\n",
      "2.148880857711623 (0.793008408072676, -0.6189077494134245)\n",
      "2.05556608758358 (1.84877380718277, 6.8921219903438375)\n",
      "1.965697832481546 (-0.7065343768752168, 1.019495554752166)\n",
      "1.9527082013305432 (-0.503008690749851, -0.6070943063938661)\n",
      "1.8148007428256911 (3.2609381316401853, 0.9397640290778373)\n",
      "1.795515320985438 (-0.40911034161673626, 1.0461936378427301)\n",
      "1.576591357235864 (7.060747924881987, 6.755340842443204)\n",
      "1.5497800495901497 (3.9460381722423676, 1.9513091165581793)\n",
      "1.5388524844153064 (3.846198554855097, 0.8978143338879558)\n",
      "1.4992456996570864 (3.6797667929793576, 6.831458765854354)\n",
      "1.457495317628157 (-0.41449750546103614, -0.2800905200984848)\n",
      "1.4190928119685475 (3.2868654709091225, 6.353872374165412)\n",
      "1.4092886892619603 (3.093419536925329, 3.2569078821225252)\n",
      "1.3379293796529526 (0.6388324478942125, -0.29578569441791497)\n",
      "1.3265735035789756 (2.700277729065183, 4.979767505070052)\n",
      "1.319921990983158 (3.4658858292643777, 6.277676821898509)\n",
      "1.3051426606454473 (3.816741487334225, 2.9607678222398994)\n",
      "1.2991188391412787 (-0.4127485983962558, -0.16069292082649672)\n",
      "1.2890683507085252 (5.3417559757771595, 6.876170839215886)\n",
      "1.2644063397642789 (4.724948302848356, 2.698078835264415)\n",
      "1.2439711497232444 (0.25967325712058614, 0.7663694565012888)\n",
      "1.22829938146646 (0.1554537827990023, 0.737678108474776)\n",
      "1.2255149264196323 (-0.359222110626218, -0.10672357585592362)\n",
      "1.2167369433713469 (2.876104275690193, 4.474244978319239)\n",
      "1.2014434531773488 (2.9325578999601234, 4.910879960487212)\n",
      "1.1882457711629084 (5.313369908858706, 2.9875375914324582)\n",
      "1.1803015692998111 (6.058424486849588, 3.2412605135768855)\n",
      "1.157129128175184 (6.628615545571292, 3.6198985417851084)\n",
      "1.1470171051540596 (-0.49075432552397547, 0.23105173713163538)\n",
      "1.1430742888831094 (6.451143607795042, 5.9592708260852065)\n",
      "1.1332465643322513 (0.5790554367500339, 0.39583134698146794)\n",
      "1.1315640285560182 (5.645375949585148, 6.368631557532349)\n",
      "1.1267225782993193 (0.6527394035771645, 0.010501920816379524)\n",
      "1.101086468510452 (7.189802933217672, 4.191701714644848)\n",
      "1.092591855511794 (-0.009508103951344415, -0.5012646823189044)\n",
      "1.0924316793930438 (0.4875598667088756, -0.07352869075106933)\n",
      "1.0848994137592844 (7.153182457511557, 4.23265243711195)\n",
      "1.0699815734763587 (-0.10884060161361014, 0.549388425993595)\n",
      "1.0667312674609726 (-0.4111101977832157, 0.12184360574595615)\n",
      "1.0630416289754394 (3.2966175606448456, 4.944452301103381)\n",
      "1.0621475483109808 (3.405572341205633, 4.400624977046228)\n",
      "1.0606388086084393 (0.4127081744940149, 0.40675481800031926)\n",
      "1.0604643367436435 (-0.10406112517863761, -0.2465004673294164)\n",
      "1.0575846182551754 (-0.29468237847210577, 0.4248010485105123)\n",
      "1.0561453172833466 (5.71161487808889, 3.8753579081621305)\n",
      "1.0559374475377614 (0.4288298116010097, -0.07996926498171356)\n",
      "1.0503991252209905 (0.5815818760774798, 0.0051165305097935244)\n",
      "1.0445220978542553 (4.16733793065281, 3.566226437351295)\n",
      "1.0355390841645906 (-0.0543800742284288, 0.20085586104947073)\n",
      "1.0353109714943227 (6.9647251329163895, 5.035263551971728)\n",
      "1.0351380852622598 (3.695530499495147, 5.669672548830039)\n",
      "1.0347992594163633 (0.34097648564748195, -0.15513337829672802)\n",
      "1.0347536814330043 (4.885460154747382, 6.237816311973462)\n",
      "1.0307817104671575 (0.27354869058501896, -0.10109632621694703)\n",
      "1.023443962974862 (0.44979993771662535, 0.15364976043830467)\n",
      "1.0205319505665986 (0.34507199585555626, -0.20061023594291813)\n",
      "1.0205164162366724 (6.502357052096028, 5.074094780419776)\n",
      "1.01870340162037 (0.11204624090520839, 0.00629620039089743)\n",
      "1.0165398606491043 (0.31205990852607757, 0.31417275463213995)\n",
      "1.0162064412794085 (6.551151975522523, 5.1156746342928585)\n",
      "1.0138377650246946 (5.614166700043425, 5.757507710047305)\n",
      "1.0046209478295651 (-0.0061233864234573115, -0.44862718574291577)\n",
      "1.0017347839969044 (0.3736468025616309, 0.3051851327167324)\n",
      "1.000318074695485 (0.40643105941948005, 0.3148144209618061)\n"
     ]
    },
    {
     "data": {
      "image/png": "[encoded data removed]",
      "text/plain": [
       "<Figure size 640x480 with 1 Axes>"
      ]
     },
     "metadata": {},
     "output_type": "display_data"
    }
   ],
   "source": [
    "lof = outliers(10, instances)\n",
    "\n",
    "print(\"异常值的LOF及其坐标:\")\n",
    "for outlier in lof:\n",
    "    print(outlier[\"lof\"],outlier[\"instance\"])\n",
    "\n",
    "from matplotlib import pyplot as p\n",
    "\n",
    "x,y = zip(*instances)\n",
    "plt.scatter(x,y, 20, color=\"#0000FF\")\n",
    "\n",
    "for outlier in lof:\n",
    "    value = outlier[\"lof\"]\n",
    "    instance = outlier[\"instance\"]\n",
    "    color = \"#FF0000\" if value > 1 else \"#00FF00\"\n",
    "    plt.scatter(instance[0], instance[1], color=color, s=(value-1)**2*10+20)\n",
    "\n",
    "plt.show()"
   ]
  },
  {
   "cell_type": "markdown",
   "metadata": {},
   "source": [
    "### 5.2. k=50"
   ]
  },
  {
   "cell_type": "code",
   "execution_count": 43,
   "metadata": {},
   "outputs": [
    {
     "name": "stdout",
     "output_type": "stream",
     "text": [
      "1.8736319008690472 (-0.30463769530061047, 3.2968523345483822)\n",
      "1.7594353603327406 (3.2609381316401853, 0.9397640290778373)\n",
      "1.716088829523369 (3.846198554855097, 0.8978143338879558)\n",
      "1.6888587255441765 (-0.04190294544599027, 6.12421824591916)\n",
      "1.5670321914750798 (-0.14262390928179158, 2.579298934587637)\n",
      "1.4330795029520342 (2.453276369837435, 0.020642422364510082)\n",
      "1.3845183146300173 (1.1539458475950477, 2.018273304836981)\n",
      "1.3640028369702701 (1.2702072463897958, 1.9046583711890808)\n",
      "1.2266772991989805 (1.84877380718277, 6.8921219903438375)\n",
      "1.202163133727499 (3.9460381722423676, 1.9513091165581793)\n",
      "1.1700870484035526 (-0.839430417778189, 1.5766333246654263)\n",
      "1.123239909525754 (0.6915840559723572, 1.6199788174233172)\n",
      "1.1226426502174924 (7.060747924881987, 6.755340842443204)\n",
      "1.0391623297174966 (7.189802933217672, 4.191701714644848)\n",
      "1.0318648263702062 (7.153182457511557, 4.23265243711195)\n",
      "1.0188300160116524 (3.093419536925329, 3.2569078821225252)\n",
      "1.016268293160918 (3.6797667929793576, 6.831458765854354)\n",
      "1.012059776850589 (2.700277729065183, 4.979767505070052)\n",
      "1.0081785816441327 (5.3417559757771595, 6.876170839215886)\n",
      "1.0077276665102302 (3.2868654709091225, 6.353872374165412)\n",
      "1.0055135546465008 (6.9647251329163895, 5.035263551971728)\n",
      "1.00499717696601 (6.628615545571292, 3.6198985417851084)\n"
     ]
    },
    {
     "data": {
      "image/png": "[encoded data removed]",
      "text/plain": [
       "<Figure size 640x480 with 1 Axes>"
      ]
     },
     "metadata": {},
     "output_type": "display_data"
    }
   ],
   "source": [
    "lof = outliers(50, instances)\n",
    "\n",
    "print(\"异常值的LOF及其坐标:\")\n",
    "for outlier in lof:\n",
    "    print(outlier[\"lof\"],outlier[\"instance\"])\n",
    "\n",
    "from matplotlib import pyplot as p\n",
    "\n",
    "x,y = zip(*instances)\n",
    "plt.scatter(x,y, 20, color=\"#0000FF\")\n",
    "\n",
    "for outlier in lof:\n",
    "    value = outlier[\"lof\"]\n",
    "    instance = outlier[\"instance\"]\n",
    "    color = \"#FF0000\" if value > 1 else \"#00FF00\"\n",
    "    plt.scatter(instance[0], instance[1], color=color, s=(value-1)**2*10+20)\n",
    "\n",
    "plt.show()"
   ]
  }
 ],
 "metadata": {
  "kernelspec": {
   "display_name": "base",
   "language": "python",
   "name": "python3"
  },
  "language_info": {
   "codemirror_mode": {
    "name": "ipython",
    "version": 3
   },
   "file_extension": ".py",
   "mimetype": "text/x-python",
   "name": "python",
   "nbconvert_exporter": "python",
   "pygments_lexer": "ipython3",
   "version": "3.9.13"
  },
  "orig_nbformat": 4
 },
 "nbformat": 4,
 "nbformat_minor": 2
}
